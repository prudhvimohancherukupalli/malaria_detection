{
  "nbformat": 4,
  "nbformat_minor": 0,
  "metadata": {
    "colab": {
      "name": "Malaria_Detection.ipynb",
      "provenance": []
    },
    "kernelspec": {
      "name": "python3",
      "display_name": "Python 3"
    }
  },
  "cells": [
    {
      "cell_type": "code",
      "metadata": {
        "id": "aRpAkkvLNpP3"
      },
      "source": [
        "data=!unzip Dataset.zip"
      ],
      "execution_count": 1,
      "outputs": []
    },
    {
      "cell_type": "code",
      "metadata": {
        "id": "zkDIbpMcOYFS"
      },
      "source": [
        "from tensorflow.keras.layers import Input,Dense,Lambda,Flatten,Conv2D\n",
        "from tensorflow.keras.models import Model\n",
        "from tensorflow.keras.models import Sequential\n",
        "from tensorflow.keras.applications.vgg19 import VGG19\n",
        "from tensorflow.keras.applications.resnet50 import preprocess_input\n",
        "from tensorflow.keras.preprocessing import image\n",
        "from tensorflow.keras.preprocessing.image import ImageDataGenerator,load_img\n",
        "import numpy as np\n",
        "import pandas as pd\n",
        "from glob import glob\n",
        "import matplotlib.pyplot as plt"
      ],
      "execution_count": 2,
      "outputs": []
    },
    {
      "cell_type": "code",
      "metadata": {
        "id": "3cMs156wQYfi",
        "outputId": "fb4d8210-7b9e-45ce-eb93-7f6fa4be11c2",
        "colab": {
          "base_uri": "https://localhost:8080/",
          "height": 34
        }
      },
      "source": [
        "import tensorflow as tf\n",
        "print(tf.__version__)"
      ],
      "execution_count": 3,
      "outputs": [
        {
          "output_type": "stream",
          "text": [
            "2.3.0\n"
          ],
          "name": "stdout"
        }
      ]
    },
    {
      "cell_type": "code",
      "metadata": {
        "id": "fq0G9tM9Qktm"
      },
      "source": [
        "IMAGE_SIZE=[224,224]\n",
        "\n",
        "train_path='/content/Dataset/Train'\n",
        "test_path='/content/Dataset/Test'"
      ],
      "execution_count": 4,
      "outputs": []
    },
    {
      "cell_type": "code",
      "metadata": {
        "id": "puKbCaq3RTTN",
        "outputId": "26881cf6-ab10-42f1-9042-d31a02f420af",
        "colab": {
          "base_uri": "https://localhost:8080/",
          "height": 51
        }
      },
      "source": [
        "vgg19=VGG19(input_shape=IMAGE_SIZE+[3],weights='imagenet',include_top=False)"
      ],
      "execution_count": 5,
      "outputs": [
        {
          "output_type": "stream",
          "text": [
            "Downloading data from https://storage.googleapis.com/tensorflow/keras-applications/vgg19/vgg19_weights_tf_dim_ordering_tf_kernels_notop.h5\n",
            "80142336/80134624 [==============================] - 0s 0us/step\n"
          ],
          "name": "stdout"
        }
      ]
    },
    {
      "cell_type": "code",
      "metadata": {
        "id": "H0S5ovRQRnBZ"
      },
      "source": [
        "for layer in vgg19.layers:\n",
        "  layer.trainable=False"
      ],
      "execution_count": 6,
      "outputs": []
    },
    {
      "cell_type": "code",
      "metadata": {
        "id": "eq6NfidzUCGc",
        "outputId": "3f2cdc54-d735-46ca-c154-6540dece166a",
        "colab": {
          "base_uri": "https://localhost:8080/",
          "height": 34
        }
      },
      "source": [
        "folders =glob('/content/Dataset/Train/*')\n",
        "folders"
      ],
      "execution_count": 7,
      "outputs": [
        {
          "output_type": "execute_result",
          "data": {
            "text/plain": [
              "['/content/Dataset/Train/Parasite', '/content/Dataset/Train/Uninfected']"
            ]
          },
          "metadata": {
            "tags": []
          },
          "execution_count": 7
        }
      ]
    },
    {
      "cell_type": "code",
      "metadata": {
        "id": "WvOobDoKULh0",
        "outputId": "fbd26b27-f29b-41dc-d2b6-a9322a7ca932",
        "colab": {
          "base_uri": "https://localhost:8080/",
          "height": 34
        }
      },
      "source": [
        "len(folders)"
      ],
      "execution_count": 8,
      "outputs": [
        {
          "output_type": "execute_result",
          "data": {
            "text/plain": [
              "2"
            ]
          },
          "metadata": {
            "tags": []
          },
          "execution_count": 8
        }
      ]
    },
    {
      "cell_type": "code",
      "metadata": {
        "id": "LLcYZjH0UOkj"
      },
      "source": [
        "x=Flatten()(vgg19.output)"
      ],
      "execution_count": 9,
      "outputs": []
    },
    {
      "cell_type": "code",
      "metadata": {
        "id": "KoR22n4oU4pe"
      },
      "source": [
        "prediction=Dense(len(folders),activation='softmax')(x)\n",
        "\n",
        "model=Model(inputs=vgg19.input,outputs=prediction)"
      ],
      "execution_count": 10,
      "outputs": []
    },
    {
      "cell_type": "code",
      "metadata": {
        "id": "tcQnzaKYVVh4",
        "outputId": "5297b617-79b7-419c-b384-b7fd8e09fa7a",
        "colab": {
          "base_uri": "https://localhost:8080/",
          "height": 969
        }
      },
      "source": [
        "model.summary()"
      ],
      "execution_count": 11,
      "outputs": [
        {
          "output_type": "stream",
          "text": [
            "Model: \"functional_1\"\n",
            "_________________________________________________________________\n",
            "Layer (type)                 Output Shape              Param #   \n",
            "=================================================================\n",
            "input_1 (InputLayer)         [(None, 224, 224, 3)]     0         \n",
            "_________________________________________________________________\n",
            "block1_conv1 (Conv2D)        (None, 224, 224, 64)      1792      \n",
            "_________________________________________________________________\n",
            "block1_conv2 (Conv2D)        (None, 224, 224, 64)      36928     \n",
            "_________________________________________________________________\n",
            "block1_pool (MaxPooling2D)   (None, 112, 112, 64)      0         \n",
            "_________________________________________________________________\n",
            "block2_conv1 (Conv2D)        (None, 112, 112, 128)     73856     \n",
            "_________________________________________________________________\n",
            "block2_conv2 (Conv2D)        (None, 112, 112, 128)     147584    \n",
            "_________________________________________________________________\n",
            "block2_pool (MaxPooling2D)   (None, 56, 56, 128)       0         \n",
            "_________________________________________________________________\n",
            "block3_conv1 (Conv2D)        (None, 56, 56, 256)       295168    \n",
            "_________________________________________________________________\n",
            "block3_conv2 (Conv2D)        (None, 56, 56, 256)       590080    \n",
            "_________________________________________________________________\n",
            "block3_conv3 (Conv2D)        (None, 56, 56, 256)       590080    \n",
            "_________________________________________________________________\n",
            "block3_conv4 (Conv2D)        (None, 56, 56, 256)       590080    \n",
            "_________________________________________________________________\n",
            "block3_pool (MaxPooling2D)   (None, 28, 28, 256)       0         \n",
            "_________________________________________________________________\n",
            "block4_conv1 (Conv2D)        (None, 28, 28, 512)       1180160   \n",
            "_________________________________________________________________\n",
            "block4_conv2 (Conv2D)        (None, 28, 28, 512)       2359808   \n",
            "_________________________________________________________________\n",
            "block4_conv3 (Conv2D)        (None, 28, 28, 512)       2359808   \n",
            "_________________________________________________________________\n",
            "block4_conv4 (Conv2D)        (None, 28, 28, 512)       2359808   \n",
            "_________________________________________________________________\n",
            "block4_pool (MaxPooling2D)   (None, 14, 14, 512)       0         \n",
            "_________________________________________________________________\n",
            "block5_conv1 (Conv2D)        (None, 14, 14, 512)       2359808   \n",
            "_________________________________________________________________\n",
            "block5_conv2 (Conv2D)        (None, 14, 14, 512)       2359808   \n",
            "_________________________________________________________________\n",
            "block5_conv3 (Conv2D)        (None, 14, 14, 512)       2359808   \n",
            "_________________________________________________________________\n",
            "block5_conv4 (Conv2D)        (None, 14, 14, 512)       2359808   \n",
            "_________________________________________________________________\n",
            "block5_pool (MaxPooling2D)   (None, 7, 7, 512)         0         \n",
            "_________________________________________________________________\n",
            "flatten (Flatten)            (None, 25088)             0         \n",
            "_________________________________________________________________\n",
            "dense (Dense)                (None, 2)                 50178     \n",
            "=================================================================\n",
            "Total params: 20,074,562\n",
            "Trainable params: 50,178\n",
            "Non-trainable params: 20,024,384\n",
            "_________________________________________________________________\n"
          ],
          "name": "stdout"
        }
      ]
    },
    {
      "cell_type": "code",
      "metadata": {
        "id": "9DAtli8uVjYV"
      },
      "source": [
        "model.compile(loss='categorical_crossentropy',optimizer='adam',metrics=['accuracy'])"
      ],
      "execution_count": 12,
      "outputs": []
    },
    {
      "cell_type": "code",
      "metadata": {
        "id": "GjINA3ebV5ul"
      },
      "source": [
        "train_datagen=ImageDataGenerator(rescale=1./255,zoom_range=0.2,shear_range=0.2,horizontal_flip=True)\n",
        "test_datagen=ImageDataGenerator(rescale=1./255)"
      ],
      "execution_count": 13,
      "outputs": []
    },
    {
      "cell_type": "code",
      "metadata": {
        "id": "0tqfviDPWbzG",
        "outputId": "1f23158a-1e7a-450a-bf46-609a3efdfe09",
        "colab": {
          "base_uri": "https://localhost:8080/",
          "height": 34
        }
      },
      "source": [
        "train_set=train_datagen.flow_from_directory('/content/Dataset/Train',target_size=[224,224],batch_size=32,class_mode='categorical')"
      ],
      "execution_count": 14,
      "outputs": [
        {
          "output_type": "stream",
          "text": [
            "Found 416 images belonging to 2 classes.\n"
          ],
          "name": "stdout"
        }
      ]
    },
    {
      "cell_type": "code",
      "metadata": {
        "id": "AOuLf10dXEKe",
        "outputId": "97a2edd7-4122-4af9-f4c5-a58fc7fc4570",
        "colab": {
          "base_uri": "https://localhost:8080/",
          "height": 34
        }
      },
      "source": [
        "test_set=test_datagen.flow_from_directory('/content/Dataset/Test',target_size=[224,224],class_mode='categorical')"
      ],
      "execution_count": 15,
      "outputs": [
        {
          "output_type": "stream",
          "text": [
            "Found 134 images belonging to 2 classes.\n"
          ],
          "name": "stdout"
        }
      ]
    },
    {
      "cell_type": "code",
      "metadata": {
        "id": "lTdwk3mHXY9-",
        "outputId": "20363842-4c4a-4d54-c083-e5bc1e33715b",
        "colab": {
          "base_uri": "https://localhost:8080/",
          "height": 1000
        }
      },
      "source": [
        "r=model.fit(train_set,validation_data=test_set,epochs=50,steps_per_epoch=len(train_set),validation_steps=len(test_set))"
      ],
      "execution_count": 16,
      "outputs": [
        {
          "output_type": "stream",
          "text": [
            "Epoch 1/50\n",
            "13/13 [==============================] - 329s 25s/step - loss: 1.4317 - accuracy: 0.5553 - val_loss: 0.7928 - val_accuracy: 0.6791\n",
            "Epoch 2/50\n",
            "13/13 [==============================] - 333s 26s/step - loss: 0.7496 - accuracy: 0.6226 - val_loss: 1.1912 - val_accuracy: 0.4328\n",
            "Epoch 3/50\n",
            "13/13 [==============================] - 330s 25s/step - loss: 0.5045 - accuracy: 0.7452 - val_loss: 0.4490 - val_accuracy: 0.7388\n",
            "Epoch 4/50\n",
            "13/13 [==============================] - 329s 25s/step - loss: 0.3666 - accuracy: 0.8486 - val_loss: 0.4284 - val_accuracy: 0.7761\n",
            "Epoch 5/50\n",
            "13/13 [==============================] - 328s 25s/step - loss: 0.3276 - accuracy: 0.8750 - val_loss: 0.3614 - val_accuracy: 0.8358\n",
            "Epoch 6/50\n",
            "13/13 [==============================] - 346s 27s/step - loss: 0.3018 - accuracy: 0.8798 - val_loss: 0.3440 - val_accuracy: 0.8657\n",
            "Epoch 7/50\n",
            "13/13 [==============================] - 330s 25s/step - loss: 0.2694 - accuracy: 0.8990 - val_loss: 0.3452 - val_accuracy: 0.8806\n",
            "Epoch 8/50\n",
            "13/13 [==============================] - 333s 26s/step - loss: 0.2480 - accuracy: 0.9159 - val_loss: 0.4810 - val_accuracy: 0.7463\n",
            "Epoch 9/50\n",
            "13/13 [==============================] - 333s 26s/step - loss: 0.2569 - accuracy: 0.8990 - val_loss: 0.3315 - val_accuracy: 0.8507\n",
            "Epoch 10/50\n",
            "13/13 [==============================] - 329s 25s/step - loss: 0.2352 - accuracy: 0.9038 - val_loss: 0.6034 - val_accuracy: 0.6791\n",
            "Epoch 11/50\n",
            "13/13 [==============================] - 329s 25s/step - loss: 0.2947 - accuracy: 0.8606 - val_loss: 0.3534 - val_accuracy: 0.8060\n",
            "Epoch 12/50\n",
            "13/13 [==============================] - 329s 25s/step - loss: 0.2491 - accuracy: 0.8894 - val_loss: 0.3384 - val_accuracy: 0.8433\n",
            "Epoch 13/50\n",
            "13/13 [==============================] - 329s 25s/step - loss: 0.2168 - accuracy: 0.9327 - val_loss: 0.2699 - val_accuracy: 0.9104\n",
            "Epoch 14/50\n",
            "13/13 [==============================] - 330s 25s/step - loss: 0.1844 - accuracy: 0.9351 - val_loss: 0.2640 - val_accuracy: 0.8955\n",
            "Epoch 15/50\n",
            "13/13 [==============================] - 330s 25s/step - loss: 0.1597 - accuracy: 0.9615 - val_loss: 0.3618 - val_accuracy: 0.7910\n",
            "Epoch 16/50\n",
            "13/13 [==============================] - 331s 25s/step - loss: 0.1821 - accuracy: 0.9471 - val_loss: 0.3313 - val_accuracy: 0.8358\n",
            "Epoch 17/50\n",
            "13/13 [==============================] - 330s 25s/step - loss: 0.1683 - accuracy: 0.9351 - val_loss: 0.2709 - val_accuracy: 0.8806\n",
            "Epoch 18/50\n",
            "13/13 [==============================] - 329s 25s/step - loss: 0.1818 - accuracy: 0.9351 - val_loss: 0.3914 - val_accuracy: 0.7687\n",
            "Epoch 19/50\n",
            "13/13 [==============================] - 330s 25s/step - loss: 0.1769 - accuracy: 0.9423 - val_loss: 0.2381 - val_accuracy: 0.9030\n",
            "Epoch 20/50\n",
            "13/13 [==============================] - 332s 26s/step - loss: 0.1912 - accuracy: 0.9327 - val_loss: 0.2406 - val_accuracy: 0.9254\n",
            "Epoch 21/50\n",
            "13/13 [==============================] - 337s 26s/step - loss: 0.1386 - accuracy: 0.9591 - val_loss: 0.2196 - val_accuracy: 0.9328\n",
            "Epoch 22/50\n",
            "13/13 [==============================] - 333s 26s/step - loss: 0.1452 - accuracy: 0.9471 - val_loss: 0.2737 - val_accuracy: 0.8806\n",
            "Epoch 23/50\n",
            "13/13 [==============================] - 347s 27s/step - loss: 0.1467 - accuracy: 0.9567 - val_loss: 0.2076 - val_accuracy: 0.9403\n",
            "Epoch 24/50\n",
            "13/13 [==============================] - 340s 26s/step - loss: 0.1222 - accuracy: 0.9639 - val_loss: 0.2285 - val_accuracy: 0.9179\n",
            "Epoch 25/50\n",
            "13/13 [==============================] - 336s 26s/step - loss: 0.1606 - accuracy: 0.9327 - val_loss: 0.2214 - val_accuracy: 0.9254\n",
            "Epoch 26/50\n",
            "13/13 [==============================] - 333s 26s/step - loss: 0.1525 - accuracy: 0.9495 - val_loss: 0.3327 - val_accuracy: 0.8433\n",
            "Epoch 27/50\n",
            "13/13 [==============================] - 331s 25s/step - loss: 0.1236 - accuracy: 0.9615 - val_loss: 0.2236 - val_accuracy: 0.9179\n",
            "Epoch 28/50\n",
            "13/13 [==============================] - 332s 26s/step - loss: 0.1393 - accuracy: 0.9495 - val_loss: 0.4377 - val_accuracy: 0.7687\n",
            "Epoch 29/50\n",
            "13/13 [==============================] - 332s 26s/step - loss: 0.1203 - accuracy: 0.9639 - val_loss: 0.2149 - val_accuracy: 0.9403\n",
            "Epoch 30/50\n",
            "13/13 [==============================] - 332s 26s/step - loss: 0.1154 - accuracy: 0.9591 - val_loss: 0.2691 - val_accuracy: 0.8806\n",
            "Epoch 31/50\n",
            "13/13 [==============================] - 329s 25s/step - loss: 0.1473 - accuracy: 0.9447 - val_loss: 0.2179 - val_accuracy: 0.9104\n",
            "Epoch 32/50\n",
            "13/13 [==============================] - 333s 26s/step - loss: 0.1281 - accuracy: 0.9543 - val_loss: 0.2939 - val_accuracy: 0.8507\n",
            "Epoch 33/50\n",
            "13/13 [==============================] - 348s 27s/step - loss: 0.1351 - accuracy: 0.9423 - val_loss: 0.2107 - val_accuracy: 0.9254\n",
            "Epoch 34/50\n",
            "13/13 [==============================] - 349s 27s/step - loss: 0.1062 - accuracy: 0.9736 - val_loss: 0.1901 - val_accuracy: 0.9328\n",
            "Epoch 35/50\n",
            "13/13 [==============================] - 336s 26s/step - loss: 0.1104 - accuracy: 0.9688 - val_loss: 0.4395 - val_accuracy: 0.7687\n",
            "Epoch 36/50\n",
            "13/13 [==============================] - 332s 26s/step - loss: 0.1343 - accuracy: 0.9543 - val_loss: 0.1961 - val_accuracy: 0.9403\n",
            "Epoch 37/50\n",
            "13/13 [==============================] - 336s 26s/step - loss: 0.1447 - accuracy: 0.9471 - val_loss: 0.5159 - val_accuracy: 0.7463\n",
            "Epoch 38/50\n",
            "13/13 [==============================] - 334s 26s/step - loss: 0.1433 - accuracy: 0.9399 - val_loss: 0.2219 - val_accuracy: 0.9104\n",
            "Epoch 39/50\n",
            "13/13 [==============================] - 330s 25s/step - loss: 0.1007 - accuracy: 0.9567 - val_loss: 0.2051 - val_accuracy: 0.9179\n",
            "Epoch 40/50\n",
            "13/13 [==============================] - 330s 25s/step - loss: 0.1196 - accuracy: 0.9615 - val_loss: 0.2072 - val_accuracy: 0.9179\n",
            "Epoch 41/50\n",
            "13/13 [==============================] - 329s 25s/step - loss: 0.0875 - accuracy: 0.9736 - val_loss: 0.2342 - val_accuracy: 0.9104\n",
            "Epoch 42/50\n",
            "13/13 [==============================] - 330s 25s/step - loss: 0.0717 - accuracy: 0.9832 - val_loss: 0.2040 - val_accuracy: 0.9254\n",
            "Epoch 43/50\n",
            "13/13 [==============================] - 331s 25s/step - loss: 0.0866 - accuracy: 0.9688 - val_loss: 0.3356 - val_accuracy: 0.8209\n",
            "Epoch 44/50\n",
            "13/13 [==============================] - 329s 25s/step - loss: 0.0983 - accuracy: 0.9663 - val_loss: 0.2187 - val_accuracy: 0.9030\n",
            "Epoch 45/50\n",
            "13/13 [==============================] - 327s 25s/step - loss: 0.1285 - accuracy: 0.9591 - val_loss: 0.1900 - val_accuracy: 0.9478\n",
            "Epoch 46/50\n",
            "13/13 [==============================] - 328s 25s/step - loss: 0.0723 - accuracy: 0.9880 - val_loss: 0.2226 - val_accuracy: 0.9030\n",
            "Epoch 47/50\n",
            "13/13 [==============================] - 328s 25s/step - loss: 0.0951 - accuracy: 0.9663 - val_loss: 0.1577 - val_accuracy: 0.9403\n",
            "Epoch 48/50\n",
            "13/13 [==============================] - 329s 25s/step - loss: 0.1330 - accuracy: 0.9495 - val_loss: 0.2476 - val_accuracy: 0.8881\n",
            "Epoch 49/50\n",
            "13/13 [==============================] - 328s 25s/step - loss: 0.1122 - accuracy: 0.9615 - val_loss: 0.3603 - val_accuracy: 0.8209\n",
            "Epoch 50/50\n",
            "13/13 [==============================] - 326s 25s/step - loss: 0.0772 - accuracy: 0.9760 - val_loss: 0.1586 - val_accuracy: 0.9254\n"
          ],
          "name": "stdout"
        }
      ]
    },
    {
      "cell_type": "code",
      "metadata": {
        "id": "_VleAZGIX6m8",
        "outputId": "2ba99836-c1de-49e5-8486-3af6571630a1",
        "colab": {
          "base_uri": "https://localhost:8080/",
          "height": 265
        }
      },
      "source": [
        "plt.plot(r.history['loss'], label='train_loss')\n",
        "plt.plot(r.history['val_loss'], label='val_loss')\n",
        "plt.legend()\n",
        "plt.show()\n"
      ],
      "execution_count": 17,
      "outputs": [
        {
          "output_type": "display_data",
          "data": {
            "image/png": "[encoded data removed]",
            "text/plain": [
              "<Figure size 432x288 with 1 Axes>"
            ]
          },
          "metadata": {
            "tags": [],
            "needs_background": "light"
          }
        }
      ]
    },
    {
      "cell_type": "code",
      "metadata": {
        "id": "75AiYKp2cHkt"
      },
      "source": [
        "y_pred=model.predict(test_set)"
      ],
      "execution_count": 18,
      "outputs": []
    },
    {
      "cell_type": "code",
      "metadata": {
        "id": "frpQfpJEcuwc"
      },
      "source": [
        "y_pred=np.argmax(y_pred,axis=1)"
      ],
      "execution_count": 19,
      "outputs": []
    },
    {
      "cell_type": "code",
      "metadata": {
        "id": "ckBmYnQlhcUh",
        "outputId": "5714d652-293f-4774-ddec-f336dd594ab5",
        "colab": {
          "base_uri": "https://localhost:8080/",
          "height": 136
        }
      },
      "source": [
        "y_pred"
      ],
      "execution_count": 57,
      "outputs": [
        {
          "output_type": "execute_result",
          "data": {
            "text/plain": [
              "array([1, 0, 0, 0, 1, 0, 0, 0, 0, 1, 1, 1, 1, 0, 0, 0, 0, 0, 0, 1, 1, 0,\n",
              "       1, 0, 0, 0, 0, 0, 1, 0, 1, 1, 1, 0, 0, 0, 1, 1, 1, 1, 0, 0, 0, 1,\n",
              "       0, 0, 1, 0, 0, 0, 0, 1, 1, 0, 0, 1, 1, 0, 0, 0, 0, 1, 1, 0, 0, 0,\n",
              "       0, 0, 1, 0, 1, 0, 0, 0, 1, 1, 0, 0, 1, 0, 0, 0, 1, 1, 1, 1, 1, 0,\n",
              "       1, 0, 1, 0, 0, 0, 0, 0, 1, 0, 0, 0, 0, 0, 0, 0, 1, 0, 0, 0, 1, 0,\n",
              "       0, 1, 0, 0, 0, 0, 1, 0, 1, 1, 0, 0, 1, 0, 0, 0, 0, 0, 1, 0, 1, 0,\n",
              "       1, 1])"
            ]
          },
          "metadata": {
            "tags": []
          },
          "execution_count": 57
        }
      ]
    },
    {
      "cell_type": "code",
      "metadata": {
        "id": "m99L1FKXfNQA",
        "outputId": "04e73021-5059-4dcd-93d4-b7a447ff684c",
        "colab": {
          "base_uri": "https://localhost:8080/",
          "height": 34
        }
      },
      "source": [
        "y=image.load_img('/content/Dataset/Test/Uninfected/C3thin_original_IMG_20150608_163029_cell_166.png',target_size=(224,224))\n",
        "y=image.img_to_array(y)\n",
        "y=y/255\n",
        "y=np.expand_dims(y,axis=0)\n",
        "y=preprocess_input(y)\n",
        "y.shape"
      ],
      "execution_count": 69,
      "outputs": [
        {
          "output_type": "execute_result",
          "data": {
            "text/plain": [
              "(1, 224, 224, 3)"
            ]
          },
          "metadata": {
            "tags": []
          },
          "execution_count": 69
        }
      ]
    },
    {
      "cell_type": "code",
      "metadata": {
        "id": "PleLdcCYfigx"
      },
      "source": [
        "p2=np.argmax(model.predict(y),axis=1)"
      ],
      "execution_count": 70,
      "outputs": []
    },
    {
      "cell_type": "code",
      "metadata": {
        "id": "mYOhV4UNhe0p",
        "outputId": "dfaf6e2a-8f23-4f59-c07e-91c8519d0253",
        "colab": {
          "base_uri": "https://localhost:8080/",
          "height": 34
        }
      },
      "source": [
        "p2"
      ],
      "execution_count": 71,
      "outputs": [
        {
          "output_type": "execute_result",
          "data": {
            "text/plain": [
              "array([1])"
            ]
          },
          "metadata": {
            "tags": []
          },
          "execution_count": 71
        }
      ]
    },
    {
      "cell_type": "code",
      "metadata": {
        "id": "cZnfKWLGhfwS"
      },
      "source": [
        ""
      ],
      "execution_count": null,
      "outputs": []
    }
  ]
}